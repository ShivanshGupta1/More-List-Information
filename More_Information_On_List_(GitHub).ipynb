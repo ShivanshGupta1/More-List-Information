{
  "nbformat": 4,
  "nbformat_minor": 0,
  "metadata": {
    "colab": {
      "name": "More Information On List (GitHub).ipynb",
      "provenance": [],
      "collapsed_sections": [],
      "authorship_tag": "ABX9TyMHgBm8rXlzKEostmMXSJ+q",
      "include_colab_link": true
    },
    "kernelspec": {
      "name": "python3",
      "display_name": "Python 3"
    }
  },
  "cells": [
    {
      "cell_type": "markdown",
      "metadata": {
        "id": "view-in-github",
        "colab_type": "text"
      },
      "source": [
        "<a href=\"https://colab.research.google.com/github/ShivanshGupta1/More-List-Information/blob/main/More_Information_On_List_(GitHub).ipynb\" target=\"_parent\"><img src=\"https://colab.research.google.com/assets/colab-badge.svg\" alt=\"Open In Colab\"/></a>"
      ]
    },
    {
      "cell_type": "code",
      "metadata": {
        "id": "KLHamCilEj4_",
        "colab": {
          "base_uri": "https://localhost:8080/",
          "height": 34
        },
        "outputId": "330c14b9-77df-4b69-b69b-ee18e5e6fee4"
      },
      "source": [
        "# use of in operator in lists\n",
        "L = [1,2,3,4,5,6]\n",
        "if 6 in L:\n",
        "  print(\"Yes it is there!\")"
      ],
      "execution_count": null,
      "outputs": [
        {
          "output_type": "stream",
          "text": [
            "Yes it is there!\n"
          ],
          "name": "stdout"
        }
      ]
    },
    {
      "cell_type": "code",
      "metadata": {
        "id": "-_t2-u-2FxsV",
        "colab": {
          "base_uri": "https://localhost:8080/",
          "height": 204
        },
        "outputId": "f1f1eaaa-8c10-4ec5-a30d-de48835be1cb"
      },
      "source": [
        "L = [2,3,56,8,9]\n",
        "L.append(2)\n",
        "print(L)\n",
        "L.remove(3)\n",
        "print(L)\n",
        "L.reverse()\n",
        "print(L)\n",
        "L.insert(3,97)\n",
        "print(L)\n",
        "print(L.count(2))\n",
        "L.sort()\n",
        "print(L)\n",
        "print(L.index(8))\n",
        "L.pop(5)\n",
        "print(L)\n",
        "# TO COPY ONE LIST TO ANOTHER\n",
        "m = L[:]\n",
        "print(m)\n",
        "# Delete \"del works in data structure, it is a keyword\"\n",
        "del L[2]\n",
        "del L[:2]\n",
        "print(L)\n",
        "# repat data in list\n",
        "N =[1,2,3]*3\n",
        "print(N)"
      ],
      "execution_count": null,
      "outputs": [
        {
          "output_type": "stream",
          "text": [
            "[2, 3, 56, 8, 9, 2]\n",
            "[2, 56, 8, 9, 2]\n",
            "[2, 9, 8, 56, 2]\n",
            "[2, 9, 8, 97, 56, 2]\n",
            "2\n",
            "[2, 2, 8, 9, 56, 97]\n",
            "2\n",
            "[2, 2, 8, 9, 56]\n",
            "[2, 2, 8, 9, 56]\n",
            "[9, 56]\n",
            "[1, 2, 3, 1, 2, 3, 1, 2, 3]\n"
          ],
          "name": "stdout"
        }
      ]
    },
    {
      "cell_type": "code",
      "metadata": {
        "id": "xBiDrIRQJBIj",
        "colab": {
          "base_uri": "https://localhost:8080/",
          "height": 68
        },
        "outputId": "61cf96b8-7e24-46fc-ada6-d44c25533695"
      },
      "source": [
        "L = input(\"Strngs\")\n",
        "L = L.split(',')\n",
        "print(L)\n",
        "I = []\n",
        "for i in range(len(L)):\n",
        " X = L[i]\n",
        " X = X[1:len(X)]\n",
        " I.append(X)\n",
        "print(I)"
      ],
      "execution_count": null,
      "outputs": [
        {
          "output_type": "stream",
          "text": [
            "Strngsshiv,daksh\n",
            "['shiv', 'daksh']\n",
            "['hiv', 'aksh']\n"
          ],
          "name": "stdout"
        }
      ]
    },
    {
      "cell_type": "code",
      "metadata": {
        "id": "jnLX4T37Nn0k",
        "colab": {
          "base_uri": "https://localhost:8080/"
        },
        "outputId": "d8b7dc3f-1a0e-431c-a2b4-c857eafcfc5f"
      },
      "source": [
        "from random import*\n",
        "L =[1,2,3,4]\n",
        "# will print any random choice\n",
        "print(choice(L))\n",
        "# if i want to choose the number of random number then.\n",
        "print(sample(L,3))\n",
        "# to shuffle list use...\n",
        "shuffle(L)\n",
        "print(L)\n",
        "# List comprehension\n",
        "L = [i for i in range(10)]\n",
        "print(L)\n",
        "M =[2 for i in range(5)]\n",
        "print(M)\n",
        "N = [i**2 for i in range(1,12)]\n",
        "print(N) "
      ],
      "execution_count": null,
      "outputs": [
        {
          "output_type": "stream",
          "text": [
            "4\n",
            "[3, 2, 1]\n",
            "[4, 3, 1, 2]\n",
            "[0, 1, 2, 3, 4, 5, 6, 7, 8, 9]\n",
            "[2, 2, 2, 2, 2]\n",
            "[1, 4, 9, 16, 25, 36, 49, 64, 81, 100, 121]\n"
          ],
          "name": "stdout"
        }
      ]
    },
    {
      "cell_type": "code",
      "metadata": {
        "id": "5ckmm0egenov",
        "colab": {
          "base_uri": "https://localhost:8080/",
          "height": 54
        },
        "outputId": "d4ea26be-0060-4e76-9ba6-7a0c1b4edaed"
      },
      "source": [
        "from random import*\n",
        "LIST = [randint(1,100) for i in range(50)]\n",
        "print(LIST)"
      ],
      "execution_count": null,
      "outputs": [
        {
          "output_type": "stream",
          "text": [
            "[85, 60, 100, 73, 87, 86, 62, 20, 17, 87, 93, 38, 6, 62, 45, 72, 10, 93, 71, 76, 37, 40, 17, 88, 20, 61, 77, 59, 99, 33, 45, 11, 60, 53, 4, 50, 53, 65, 21, 85, 46, 22, 70, 38, 86, 18, 58, 39, 42, 28]\n"
          ],
          "name": "stdout"
        }
      ]
    },
    {
      "cell_type": "code",
      "metadata": {
        "id": "rIy-H1-0dBNQ",
        "colab": {
          "base_uri": "https://localhost:8080/",
          "height": 85
        },
        "outputId": "6c848302-19f6-4bf5-c4b7-0e97fbe24749"
      },
      "source": [
        "#2-miensional list - a list with rows and colums\n",
        "#1-d list = l = [1,2,3]\n",
        "#2-d list = l = [[2,3,2],\n",
        "#                [9,4,4],\n",
        "#                [2,5,6]]\n",
        "L = [[1,2,3],[4,5,6],[7,8,9]]\n",
        "# syntax - print(L[2][1])\n",
        "print(L[2][1])\n",
        "# to print all, we need to use nested for loop\n",
        "for row in range(3):\n",
        "  for col in range(3):\n",
        "    print(L[row][col], end=\"\")\n",
        "  print()"
      ],
      "execution_count": null,
      "outputs": [
        {
          "output_type": "stream",
          "text": [
            "8\n",
            "123\n",
            "456\n",
            "789\n"
          ],
          "name": "stdout"
        }
      ]
    },
    {
      "cell_type": "code",
      "metadata": {
        "id": "5J9gH5phfYJd",
        "colab": {
          "base_uri": "https://localhost:8080/",
          "height": 34
        },
        "outputId": "ca5702dc-d369-47b9-b6a1-f18a575982d6"
      },
      "source": [
        "#pprint libray - pretty print\n",
        "# can also be used to print object nicely\n",
        "from pprint import pprint\n",
        "L = [[1,2,3],[4,5,6],[7,8,9]]\n",
        "pprint(L)\n",
        "pprint(L, width=500)"
      ],
      "execution_count": null,
      "outputs": [
        {
          "output_type": "stream",
          "text": [
            "[[1, 2, 3], [4, 5, 6], [7, 8, 9]]\n"
          ],
          "name": "stdout"
        }
      ]
    },
    {
      "cell_type": "code",
      "metadata": {
        "id": "GN_uAaLTgvnR",
        "colab": {
          "base_uri": "https://localhost:8080/",
          "height": 105
        },
        "outputId": "e0771b20-d37e-4c94-8d6f-d1f608fe3043"
      },
      "source": [
        "# to make list using list comprhension\n",
        "L = [[1]*5 for i in range(10)]\n",
        "print(L)\n",
        "print(L[4])\n",
        "# below will return an entire column\n",
        "print([L[i][3] for i in range(10)])\n",
        "# like this we can make infite dimensionl al lists\n",
        "N = [[[0]*2 for i in range(3)] for n in range(5)]\n",
        "print(N)"
      ],
      "execution_count": null,
      "outputs": [
        {
          "output_type": "stream",
          "text": [
            "[[1, 1, 1, 1, 1], [1, 1, 1, 1, 1], [1, 1, 1, 1, 1], [1, 1, 1, 1, 1], [1, 1, 1, 1, 1], [1, 1, 1, 1, 1], [1, 1, 1, 1, 1], [1, 1, 1, 1, 1], [1, 1, 1, 1, 1], [1, 1, 1, 1, 1]]\n",
            "[1, 1, 1, 1, 1]\n",
            "[1, 1, 1, 1, 1, 1, 1, 1, 1, 1]\n",
            "[[[0, 0], [0, 0], [0, 0]], [[0, 0], [0, 0], [0, 0]], [[0, 0], [0, 0], [0, 0]], [[0, 0], [0, 0], [0, 0]], [[0, 0], [0, 0], [0, 0]]]\n"
          ],
          "name": "stdout"
        }
      ]
    }
  ]
}